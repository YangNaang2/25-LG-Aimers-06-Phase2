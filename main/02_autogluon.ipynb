{
 "cells": [
  {
   "cell_type": "markdown",
   "id": "e009e2ac",
   "metadata": {
    "papermill": {
     "duration": 0.003706,
     "end_time": "2025-02-23T15:03:12.035420",
     "exception": false,
     "start_time": "2025-02-23T15:03:12.031714",
     "status": "completed"
    },
    "tags": []
   },
   "source": [
    "### 01. `Autogluon` 라이브러리 설치"
   ]
  },
  {
   "cell_type": "code",
   "execution_count": null,
   "id": "7ef4b6ae",
   "metadata": {
    "execution": {
     "iopub.execute_input": "2025-02-23T15:03:12.042744Z",
     "iopub.status.busy": "2025-02-23T15:03:12.042438Z",
     "iopub.status.idle": "2025-02-23T15:03:58.075208Z",
     "shell.execute_reply": "2025-02-23T15:03:58.074366Z"
    },
    "papermill": {
     "duration": 46.038231,
     "end_time": "2025-02-23T15:03:58.076831",
     "exception": false,
     "start_time": "2025-02-23T15:03:12.038600",
     "status": "completed"
    },
    "tags": []
   },
   "outputs": [],
   "source": [
    "!pip install autogluon"
   ]
  },
  {
   "cell_type": "markdown",
   "id": "f1684216",
   "metadata": {
    "papermill": {
     "duration": 0.013,
     "end_time": "2025-02-23T15:03:58.103688",
     "exception": false,
     "start_time": "2025-02-23T15:03:58.090688",
     "status": "completed"
    },
    "tags": []
   },
   "source": [
    "### 2. 필요한 라이브러리 추가"
   ]
  },
  {
   "cell_type": "code",
   "execution_count": null,
   "id": "c414ca8a",
   "metadata": {
    "execution": {
     "iopub.execute_input": "2025-02-23T15:03:58.131297Z",
     "iopub.status.busy": "2025-02-23T15:03:58.131020Z",
     "iopub.status.idle": "2025-02-23T15:04:00.887618Z",
     "shell.execute_reply": "2025-02-23T15:04:00.886913Z"
    },
    "papermill": {
     "duration": 2.771851,
     "end_time": "2025-02-23T15:04:00.889137",
     "exception": false,
     "start_time": "2025-02-23T15:03:58.117286",
     "status": "completed"
    },
    "tags": []
   },
   "outputs": [],
   "source": [
    "# built-in\n",
    "import os\n",
    "import random\n",
    "\n",
    "# basic external\n",
    "import numpy as np\n",
    "import pandas as pd\n",
    "\n",
    "# AutoML\n",
    "from autogluon.tabular import TabularDataset, TabularPredictor"
   ]
  },
  {
   "cell_type": "markdown",
   "id": "698014b0",
   "metadata": {
    "papermill": {
     "duration": 0.013007,
     "end_time": "2025-02-23T15:04:00.916387",
     "exception": false,
     "start_time": "2025-02-23T15:04:00.903380",
     "status": "completed"
    },
    "tags": []
   },
   "source": [
    "### 3. 필요한 파라미터 정의"
   ]
  },
  {
   "cell_type": "code",
   "execution_count": null,
   "id": "678935ed",
   "metadata": {
    "execution": {
     "iopub.execute_input": "2025-02-23T15:04:00.943707Z",
     "iopub.status.busy": "2025-02-23T15:04:00.943278Z",
     "iopub.status.idle": "2025-02-23T15:04:00.946806Z",
     "shell.execute_reply": "2025-02-23T15:04:00.946163Z"
    },
    "papermill": {
     "duration": 0.01857,
     "end_time": "2025-02-23T15:04:00.947994",
     "exception": false,
     "start_time": "2025-02-23T15:04:00.929424",
     "status": "completed"
    },
    "tags": []
   },
   "outputs": [],
   "source": [
    "exp_hparams = {\n",
    "    'seed': 42,\n",
    "    'tr_data_path': '/kaggle/input/aimers06/data/train.csv',\n",
    "    'tt_data_path': '/kaggle/input/aimers06/data/test.csv',\n",
    "    'sub_data_path': '/kaggle/input/aimers06/data/sample_submission.csv',\n",
    "}"
   ]
  },
  {
   "cell_type": "code",
   "execution_count": null,
   "id": "ad7af8ac",
   "metadata": {
    "execution": {
     "iopub.execute_input": "2025-02-23T15:04:00.975351Z",
     "iopub.status.busy": "2025-02-23T15:04:00.975081Z",
     "iopub.status.idle": "2025-02-23T15:04:00.978166Z",
     "shell.execute_reply": "2025-02-23T15:04:00.977587Z"
    },
    "papermill": {
     "duration": 0.018382,
     "end_time": "2025-02-23T15:04:00.979427",
     "exception": false,
     "start_time": "2025-02-23T15:04:00.961045",
     "status": "completed"
    },
    "tags": []
   },
   "outputs": [],
   "source": [
    "autogluon_hparams = {\n",
    "    'label': \"임신 성공 여부\", # 정답 컬럼명\n",
    "    'problem_type': 'binary', # 풀고자 하는 문제의 유형\n",
    "    'eval_metric': \"roc_auc\", # 평가 지표\n",
    "    'verbosity': 3, # 출력 레벨\n",
    "}"
   ]
  },
  {
   "cell_type": "markdown",
   "id": "75e8b910",
   "metadata": {
    "papermill": {
     "duration": 0.013051,
     "end_time": "2025-02-23T15:04:01.005917",
     "exception": false,
     "start_time": "2025-02-23T15:04:00.992866",
     "status": "completed"
    },
    "tags": []
   },
   "source": [
    "### 4. 필요 함수 정의"
   ]
  },
  {
   "cell_type": "code",
   "execution_count": null,
   "id": "5a170c91",
   "metadata": {
    "execution": {
     "iopub.execute_input": "2025-02-23T15:04:01.032916Z",
     "iopub.status.busy": "2025-02-23T15:04:01.032694Z",
     "iopub.status.idle": "2025-02-23T15:04:01.039720Z",
     "shell.execute_reply": "2025-02-23T15:04:01.039116Z"
    },
    "papermill": {
     "duration": 0.022145,
     "end_time": "2025-02-23T15:04:01.040910",
     "exception": false,
     "start_time": "2025-02-23T15:04:01.018765",
     "status": "completed"
    },
    "tags": []
   },
   "outputs": [],
   "source": [
    "def set_seed(seed: int = 2025) -> None:\n",
    "    \"\"\"실험 재현을 위해 seed를 설정하는 함수입니다.\n",
    "\n",
    "    Args:\n",
    "        seed (int, optional): seed로 사용할 정수형 값. Defaults to 2025.\n",
    "    \"\"\"\n",
    "    random.seed(seed)\n",
    "    os.environ['PYTHONASHSEED'] = str(seed)\n",
    "    np.random.seed(seed)"
   ]
  },
  {
   "cell_type": "markdown",
   "id": "bb6ace6e",
   "metadata": {
    "papermill": {
     "duration": 0.012757,
     "end_time": "2025-02-23T15:04:01.067045",
     "exception": false,
     "start_time": "2025-02-23T15:04:01.054288",
     "status": "completed"
    },
    "tags": []
   },
   "source": [
    "### 5. 사전 작업"
   ]
  },
  {
   "cell_type": "code",
   "execution_count": null,
   "id": "ababe3da",
   "metadata": {
    "execution": {
     "iopub.execute_input": "2025-02-23T15:04:01.124345Z",
     "iopub.status.busy": "2025-02-23T15:04:01.124096Z",
     "iopub.status.idle": "2025-02-23T15:04:01.126972Z",
     "shell.execute_reply": "2025-02-23T15:04:01.126427Z"
    },
    "papermill": {
     "duration": 0.01759,
     "end_time": "2025-02-23T15:04:01.128119",
     "exception": false,
     "start_time": "2025-02-23T15:04:01.110529",
     "status": "completed"
    },
    "tags": []
   },
   "outputs": [],
   "source": [
    "# 시드 고정\n",
    "set_seed(exp_hparams['seed'])"
   ]
  },
  {
   "cell_type": "code",
   "execution_count": null,
   "id": "37f4ec57",
   "metadata": {
    "execution": {
     "iopub.execute_input": "2025-02-23T15:04:01.155783Z",
     "iopub.status.busy": "2025-02-23T15:04:01.155481Z",
     "iopub.status.idle": "2025-02-23T15:04:05.158518Z",
     "shell.execute_reply": "2025-02-23T15:04:05.157503Z"
    },
    "papermill": {
     "duration": 4.018551,
     "end_time": "2025-02-23T15:04:05.160135",
     "exception": false,
     "start_time": "2025-02-23T15:04:01.141584",
     "status": "completed"
    },
    "tags": []
   },
   "outputs": [],
   "source": [
    "# 데이터 로드(ID 컬럼 제외)\n",
    "tr_df = pd.read_csv(exp_hparams['tr_data_path']).drop(columns=['ID'])\n",
    "tt_df = pd.read_csv(exp_hparams['tt_data_path']).drop(columns=['ID'])\n",
    "sub_df = pd.read_csv(exp_hparams['sub_data_path'])"
   ]
  },
  {
   "cell_type": "markdown",
   "id": "ed5e55a1",
   "metadata": {
    "papermill": {
     "duration": 0.013644,
     "end_time": "2025-02-23T15:04:05.187823",
     "exception": false,
     "start_time": "2025-02-23T15:04:05.174179",
     "status": "completed"
    },
    "tags": []
   },
   "source": [
    "### 6. Autogluon 실행"
   ]
  },
  {
   "cell_type": "code",
   "execution_count": null,
   "id": "28a0e9e3",
   "metadata": {
    "execution": {
     "iopub.execute_input": "2025-02-23T15:04:05.215598Z",
     "iopub.status.busy": "2025-02-23T15:04:05.215319Z",
     "iopub.status.idle": "2025-02-23T15:04:05.220283Z",
     "shell.execute_reply": "2025-02-23T15:04:05.219614Z"
    },
    "papermill": {
     "duration": 0.02021,
     "end_time": "2025-02-23T15:04:05.221417",
     "exception": false,
     "start_time": "2025-02-23T15:04:05.201207",
     "status": "completed"
    },
    "tags": []
   },
   "outputs": [],
   "source": [
    "# predictor 정의\n",
    "predictor = TabularPredictor(\n",
    "    **autogluon_hparams\n",
    ")"
   ]
  },
  {
   "cell_type": "code",
   "execution_count": null,
   "id": "eefcf78f",
   "metadata": {
    "execution": {
     "iopub.execute_input": "2025-02-23T15:04:05.249453Z",
     "iopub.status.busy": "2025-02-23T15:04:05.249187Z",
     "iopub.status.idle": "2025-02-23T16:04:16.081090Z",
     "shell.execute_reply": "2025-02-23T16:04:16.080301Z"
    },
    "papermill": {
     "duration": 3610.847427,
     "end_time": "2025-02-23T16:04:16.082349",
     "exception": false,
     "start_time": "2025-02-23T15:04:05.234922",
     "status": "completed"
    },
    "tags": []
   },
   "outputs": [],
   "source": [
    "# AutoML 실행\n",
    "predictor.fit(\n",
    "    train_data=TabularDataset(tr_df),\n",
    "    presets='best_quality', # default\n",
    ")"
   ]
  },
  {
   "cell_type": "markdown",
   "id": "8d68cf1d",
   "metadata": {
    "papermill": {
     "duration": 0.051669,
     "end_time": "2025-02-23T16:04:16.189875",
     "exception": false,
     "start_time": "2025-02-23T16:04:16.138206",
     "status": "completed"
    },
    "tags": []
   },
   "source": [
    "### 7. AutoML 결과 확인"
   ]
  },
  {
   "cell_type": "code",
   "execution_count": null,
   "id": "2e8c81c4",
   "metadata": {
    "execution": {
     "iopub.execute_input": "2025-02-23T16:04:16.297188Z",
     "iopub.status.busy": "2025-02-23T16:04:16.296355Z",
     "iopub.status.idle": "2025-02-23T16:04:16.319899Z",
     "shell.execute_reply": "2025-02-23T16:04:16.319073Z"
    },
    "papermill": {
     "duration": 0.076191,
     "end_time": "2025-02-23T16:04:16.321039",
     "exception": false,
     "start_time": "2025-02-23T16:04:16.244848",
     "status": "completed"
    },
    "tags": []
   },
   "outputs": [],
   "source": [
    "predictor.leaderboard()"
   ]
  },
  {
   "cell_type": "markdown",
   "id": "b90b8c2b",
   "metadata": {
    "papermill": {
     "duration": 0.052983,
     "end_time": "2025-02-23T16:04:17.526489",
     "exception": false,
     "start_time": "2025-02-23T16:04:17.473506",
     "status": "completed"
    },
    "tags": []
   },
   "source": [
    "### 8. submission 파일 생성"
   ]
  },
  {
   "cell_type": "code",
   "execution_count": null,
   "id": "1b9fe78e",
   "metadata": {
    "execution": {
     "iopub.execute_input": "2025-02-23T16:04:17.635538Z",
     "iopub.status.busy": "2025-02-23T16:04:17.634807Z",
     "iopub.status.idle": "2025-02-23T16:04:49.396517Z",
     "shell.execute_reply": "2025-02-23T16:04:49.395801Z"
    },
    "papermill": {
     "duration": 31.818642,
     "end_time": "2025-02-23T16:04:49.397994",
     "exception": false,
     "start_time": "2025-02-23T16:04:17.579352",
     "status": "completed"
    },
    "tags": []
   },
   "outputs": [],
   "source": [
    "sub_df['probability'] = predictor.predict_proba(\n",
    "    data=tt_df,\n",
    ")[:][1]\n",
    "sub_df.to_csv(\"presets_best.csv\", index=False)"
   ]
  }
 ],
 "metadata": {
  "kaggle": {
   "accelerator": "gpu",
   "dataSources": [
    {
     "datasetId": 6724826,
     "sourceId": 10830050,
     "sourceType": "datasetVersion"
    }
   ],
   "dockerImageVersionId": 30919,
   "isGpuEnabled": true,
   "isInternetEnabled": true,
   "language": "python",
   "sourceType": "notebook"
  },
  "kernelspec": {
   "display_name": "Python 3",
   "language": "python",
   "name": "python3"
  },
  "language_info": {
   "codemirror_mode": {
    "name": "ipython",
    "version": 3
   },
   "file_extension": ".py",
   "mimetype": "text/x-python",
   "name": "python",
   "nbconvert_exporter": "python",
   "pygments_lexer": "ipython3",
   "version": "3.10.12"
  },
  "papermill": {
   "default_parameters": {},
   "duration": 3702.721616,
   "end_time": "2025-02-23T16:04:52.173522",
   "environment_variables": {},
   "exception": null,
   "input_path": "__notebook__.ipynb",
   "output_path": "__notebook__.ipynb",
   "parameters": {},
   "start_time": "2025-02-23T15:03:09.451906",
   "version": "2.6.0"
  }
 },
 "nbformat": 4,
 "nbformat_minor": 5
}
